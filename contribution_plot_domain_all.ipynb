{
 "cells": [
  {
   "cell_type": "code",
   "execution_count": 1,
   "id": "8a231896-afe0-4571-9f0b-05278fececc6",
   "metadata": {},
   "outputs": [],
   "source": [
    "import numpy as np\n",
    "import matplotlib.pyplot as plt\n",
    "import xarray as xr"
   ]
  },
  {
   "cell_type": "code",
   "execution_count": 2,
   "id": "1e6efc4c-aa4e-4535-8bfb-570b4071a74e",
   "metadata": {},
   "outputs": [],
   "source": [
    "from plot_config import *"
   ]
  },
  {
   "cell_type": "code",
   "execution_count": 3,
   "id": "e1942b72-2bd8-4e9c-be31-af54a984498d",
   "metadata": {},
   "outputs": [],
   "source": [
    "from utils import *"
   ]
  },
  {
   "cell_type": "code",
   "execution_count": null,
   "id": "cfb6dcc6-8550-4f18-a7b9-22bb6b31a244",
   "metadata": {},
   "outputs": [],
   "source": [
    "ds = open_domain_all()"
   ]
  },
  {
   "cell_type": "code",
   "execution_count": null,
   "id": "33f06777-0698-4ae4-8354-c04419ccbe6c",
   "metadata": {},
   "outputs": [],
   "source": [
    "limit = 1825"
   ]
  },
  {
   "cell_type": "code",
   "execution_count": null,
   "id": "3541e1a7-9324-4ca2-a90f-7e3604573de1",
   "metadata": {},
   "outputs": [],
   "source": [
    "just_for_time = '/sciserver/filedb10-01/ocean/wenrui_temp/vol_budget'\n",
    "\n",
    "rtime = np.array(xr.open_zarr(just_for_time).time)"
   ]
  },
  {
   "cell_type": "code",
   "execution_count": null,
   "id": "0868ff6b-2a63-4ab6-b605-fc2e8a1b3ce0",
   "metadata": {
    "scrolled": true
   },
   "outputs": [],
   "source": [
    "%%time\n",
    "terms = {}\n",
    "for var in rhs_list:\n",
    "    terms[var] = [0]\n",
    "for i in range(1,len(rtime),1):\n",
    "    print(i,end = ' ')\n",
    "    length = np.minimum(i+1,limit)\n",
    "    stupid_xr_vec = xr.DataArray(np.arange(length), dims = 'stupid')\n",
    "    for var in rhs_list:\n",
    "        slc = ds[var][i-stupid_xr_vec,stupid_xr_vec]\n",
    "        terms[var].append(np.nansum(slc))"
   ]
  },
  {
   "cell_type": "code",
   "execution_count": null,
   "id": "0e2c895c-82e4-4823-9c64-1def3e1ce21e",
   "metadata": {},
   "outputs": [],
   "source": [
    "indices = np.arange(1,len(rtime),1)\n",
    "slast = np.array(ds.sl[:,0])[indices]\n",
    "sfirst = np.zeros_like(slast)\n",
    "part1992 = indices[indices<limit]\n",
    "part5yr = indices[indices>=limit]\n",
    "sfirst[:len(part1992)] = np.array(ds.sf[0,:])[part1992]\n",
    "sfirst[-len(part5yr):] = np.array(ds.sf[:,limit-1])[part5yr - limit]"
   ]
  },
  {
   "cell_type": "code",
   "execution_count": null,
   "id": "d1a56c81-df22-473f-be4f-fe8e81c9478a",
   "metadata": {},
   "outputs": [],
   "source": [
    "for var in rhs_list:\n",
    "    terms[var] = np.array(terms[var])"
   ]
  },
  {
   "cell_type": "code",
   "execution_count": null,
   "id": "17deb441-7647-4ec9-a072-f852e87223c3",
   "metadata": {},
   "outputs": [],
   "source": [
    "sums = np.zeros_like(terms['A'])\n",
    "for var in rhs_list:\n",
    "    sums+= np.array(terms[var])"
   ]
  },
  {
   "cell_type": "code",
   "execution_count": null,
   "id": "8150a726-8b57-48aa-8edf-f276e73bcff7",
   "metadata": {},
   "outputs": [],
   "source": [
    "t = rtime[1:]"
   ]
  },
  {
   "cell_type": "code",
   "execution_count": null,
   "id": "fc5803d7-40c9-403d-abf9-77bdef70336d",
   "metadata": {},
   "outputs": [],
   "source": [
    "NUMBER_OF_PARTICLE = NUMBER_OF_PARTICLE_domain_all"
   ]
  },
  {
   "cell_type": "code",
   "execution_count": null,
   "id": "4da64859-33d2-4f32-878c-34dfbd329063",
   "metadata": {},
   "outputs": [],
   "source": [
    "to_output = xr.Dataset()\n",
    "for var in terms.keys():\n",
    "    to_output[var] = xr.DataArray(terms[var],dims = 'dummy')\n",
    "to_output.to_zarr('lineplotprep/contr_domain_all')"
   ]
  },
  {
   "cell_type": "code",
   "execution_count": null,
   "id": "791a9bf2-b362-4486-bb17-4db7d7085252",
   "metadata": {},
   "outputs": [],
   "source": [
    "fig,axs = plt.subplots(2,2, figsize = (16,9),sharex = True)\n",
    "fontsize = 7\n",
    "axs = axs.ravel()\n",
    "ylim = 0.3\n",
    "small_ylim = 0.03\n",
    "\n",
    "axs[0].plot(t,slast,label = 'final salinity')\n",
    "axs[0].plot(t,sfirst, label = 'initial salinity',alpha = 0.5)\n",
    "axs[0].plot(t,-sums[1:]/NUMBER_OF_PARTICLE, label = 'term contribution')\n",
    "axs[0].plot(t,slast-sfirst+sums[1:]/NUMBER_OF_PARTICLE,label = 'closure',alpha = 0.2)\n",
    "axs[0].legend(fontsize = fontsize)\n",
    "axs[0].fill_betweenx([-ylim,ylim],t[0],t[1825],color = 'grey',alpha = 0.5)\n",
    "axs[0].set_ylim([-ylim,ylim])\n",
    "axs[0].set_xlim([t[0],t[-1]])\n",
    "\n",
    "for i,group in enumerate([['E','A'],['dif_h','dif_v','F'],['e_ua','I']]):\n",
    "    for var in group:\n",
    "        axs[i+1].plot(ttt, -terms[var]/NUMBER_OF_PARTICLE,label = term_dic[var],color = color_dic[var])\n",
    "    axs[i+1].legend(fontsize = fontsize)\n",
    "    if i!=2:\n",
    "        axs[i+1].fill_betweenx([-ylim,ylim],t[0],t[1825],color = 'grey',alpha = 0.5)\n",
    "        axs[i+1].set_ylim([-ylim,ylim])\n",
    "    else:\n",
    "        axs[i+1].fill_betweenx([-small_ylim,small_ylim],t[0],t[1825],color = 'grey',alpha = 0.5)\n",
    "        axs[i+1].set_ylim([-small_ylim,small_ylim])\n",
    "\n",
    "plt.tight_layout()"
   ]
  },
  {
   "cell_type": "code",
   "execution_count": null,
   "id": "01a5c38a-6233-46ef-836f-30ea374621ca",
   "metadata": {},
   "outputs": [],
   "source": []
  }
 ],
 "metadata": {
  "kernelspec": {
   "display_name": "Python 3 (ipykernel)",
   "language": "python",
   "name": "python3"
  },
  "language_info": {
   "codemirror_mode": {
    "name": "ipython",
    "version": 3
   },
   "file_extension": ".py",
   "mimetype": "text/x-python",
   "name": "python",
   "nbconvert_exporter": "python",
   "pygments_lexer": "ipython3",
   "version": "3.11.6"
  }
 },
 "nbformat": 4,
 "nbformat_minor": 5
}
