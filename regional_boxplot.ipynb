{
 "cells": [
  {
   "cell_type": "code",
   "execution_count": 1,
   "id": "db102999-cb24-42d5-8fc0-cecc4afb966d",
   "metadata": {},
   "outputs": [],
   "source": [
    "import numpy as np\n",
    "import xarray as xr\n",
    "import matplotlib.pyplot as plt\n",
    "import os"
   ]
  },
  {
   "cell_type": "code",
   "execution_count": 2,
   "id": "ce1790ed-b170-4a48-bf7f-280f2285964a",
   "metadata": {},
   "outputs": [],
   "source": [
    "table_path = '/sciserver/filedb10-01/ocean/wenrui_temp/table_nov24/'"
   ]
  },
  {
   "cell_type": "code",
   "execution_count": 3,
   "id": "27d470f6-8212-4f8a-bda4-742f215a6afc",
   "metadata": {},
   "outputs": [],
   "source": [
    "just_for_time = '/sciserver/filedb10-01/ocean/wenrui_temp/vol_budget'\n",
    "\n",
    "ttt = xr.open_zarr(just_for_time).time\n",
    "\n",
    "zarr_list = [table_path+'table'+str(i) for i in range(120)]\n",
    "\n",
    "# xr.open_zarr(table_path+'table160').time\n",
    "\n",
    "datasets = []\n",
    "bins = 59\n",
    "for i in range(161):\n",
    "    no_time = xr.open_zarr(table_path+'table'+str(i))\n",
    "    no_time['time'] = ttt[i*bins:(i+1)*bins]\n",
    "    datasets.append(no_time)"
   ]
  },
  {
   "cell_type": "code",
   "execution_count": 4,
   "id": "c2a7046d-ceb9-4324-b8a9-b38458b8afc7",
   "metadata": {},
   "outputs": [],
   "source": [
    "ds = xr.concat(datasets, dim  = 'time')"
   ]
  },
  {
   "cell_type": "code",
   "execution_count": null,
   "id": "0193e99b-a32d-46c1-8093-3594ee883248",
   "metadata": {},
   "outputs": [],
   "source": []
  }
 ],
 "metadata": {
  "kernelspec": {
   "display_name": "Python 3 (ipykernel)",
   "language": "python",
   "name": "python3"
  },
  "language_info": {
   "codemirror_mode": {
    "name": "ipython",
    "version": 3
   },
   "file_extension": ".py",
   "mimetype": "text/x-python",
   "name": "python",
   "nbconvert_exporter": "python",
   "pygments_lexer": "ipython3",
   "version": "3.11.6"
  }
 },
 "nbformat": 4,
 "nbformat_minor": 5
}
