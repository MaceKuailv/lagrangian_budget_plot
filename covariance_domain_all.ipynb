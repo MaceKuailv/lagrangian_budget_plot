{
 "cells": [
  {
   "cell_type": "code",
   "execution_count": 1,
   "id": "6bcf5b3e-0fd7-41b6-b73c-1e42c969b9f5",
   "metadata": {},
   "outputs": [],
   "source": [
    "import numpy as np\n",
    "import matplotlib.pyplot as plt\n",
    "import xarray as xr"
   ]
  },
  {
   "cell_type": "code",
   "execution_count": 2,
   "id": "6b96810d-8840-4d52-ac93-a202608a0392",
   "metadata": {},
   "outputs": [],
   "source": [
    "from plot_config import *\n",
    "from utils import *"
   ]
  },
  {
   "cell_type": "code",
   "execution_count": 3,
   "id": "b7ffd97b-ea0a-4d70-b6d9-5959231a2f43",
   "metadata": {},
   "outputs": [],
   "source": [
    "rerun = True"
   ]
  },
  {
   "cell_type": "code",
   "execution_count": 4,
   "id": "684f0a22-3e6c-4b6c-a7c2-48dbe1388157",
   "metadata": {},
   "outputs": [],
   "source": [
    "# ds = open_domain_all()\n",
    "\n",
    "# plt.imshow(ds.A[::100,::100])\n",
    "\n",
    "# plt.pcolormesh(ds.sf[::100,::100])\n",
    "\n",
    "# plt.imshow(ds.F[::100,::100]/1e6)\n",
    "# plt.colorbar()"
   ]
  },
  {
   "cell_type": "code",
   "execution_count": null,
   "id": "7a74794a-7cf4-4ab2-addc-22d749525c01",
   "metadata": {},
   "outputs": [
    {
     "name": "stdout",
     "output_type": "stream",
     "text": [
      "A_gulf E_gulf F_gulf I_gulf dif_h_gulf dif_v_gulf e_ua_gulf \n",
      "A_labr E_labr F_labr I_labr dif_h_labr dif_v_labr e_ua_labr \n",
      "A_gdbk E_gdbk F_gdbk I_gdbk dif_h_gdbk dif_v_gdbk e_ua_gdbk \n",
      "A_nace E_nace F_nace I_nace dif_h_nace dif_v_nace e_ua_nace \n",
      "A_egrl E_egrl F_egrl I_egrl dif_h_egrl dif_v_egrl e_ua_egrl \n",
      "e_ua E dif_h dif_v A I F 0 50 100 150 200 250 300 350 "
     ]
    }
   ],
   "source": [
    "if rerun:\n",
    "    ds = open_domain_all()\n",
    "    \n",
    "    NUMBER_OF_PARTICLE = NUMBER_OF_PARTICLE_domain_all\n",
    "    \n",
    "    for a_region in region_names:\n",
    "        ds[a_region] = xr.zeros_like(ds['A'])\n",
    "        for var in ds.data_vars:\n",
    "            if a_region in var and a_region!=var:\n",
    "                ds[a_region]+=ds[var]\n",
    "                print(var, end = ' ')\n",
    "        print()\n",
    "    ds['sum'] = xr.zeros_like(ds['A'])\n",
    "    for var in rhs_list:\n",
    "        ds['sum']+=ds[var]\n",
    "        print(var, end = ' ')\n",
    "    \n",
    "    ds\n",
    "    \n",
    "    bins = 50\n",
    "    n = len(ds.time)\n",
    "    m = 1825#len(ds.space)\n",
    "    size = (n//bins+1, m//bins+1)\n",
    "    dics = {}\n",
    "    for var in rhs_list+['sl','sf']+region_names+['sum']:\n",
    "        dics[var] = np.zeros(size)\n",
    "    \n",
    "    j = 0\n",
    "    for start in range(0,n,bins):\n",
    "        print(start, end =' ')\n",
    "    \n",
    "        xp = 0\n",
    "        yp = start\n",
    "        \n",
    "        # dic = {}\n",
    "        # for var in rhs_list+['sl','sf']:\n",
    "        #     dic[var] = []\n",
    "        i = 0\n",
    "        while xp<=m and yp-bins>=0:\n",
    "            \n",
    "            sl = float(ds.sl[yp,xp])\n",
    "            # print(xp, end = ' ')\n",
    "            offset = np.minimum(m-xp,bins)\n",
    "            sf = float(ds.sf[yp-offset+1,xp+offset-1])\n",
    "            xslicer = xr.DataArray(np.arange(xp,xp+offset), dims = 'hold')\n",
    "            yslicer = xr.DataArray(np.arange(yp,yp-offset,-1), dims = 'hold')\n",
    "            \n",
    "            dics['sl'][j,i] = sl\n",
    "            dics['sf'][j,i] = sf\n",
    "            for var in rhs_list+region_names+['sum']:\n",
    "                cumsum = float(ds[var][yslicer,xslicer].sum())/NUMBER_OF_PARTICLE\n",
    "                dics[var][j,i] = cumsum\n",
    "            xp+=bins\n",
    "            yp-=bins\n",
    "            i+=1\n",
    "        # for var in rhs_list+['sl','sf']:\n",
    "        #     dic[var] = np.array(dic[var])\n",
    "        # dics.append(dic)\n",
    "        j+=1\n",
    "    \n",
    "    # %%time\n",
    "    covs = {}\n",
    "    for var in rhs_list+region_names+['sf','sl']:\n",
    "        covs[var] = np.zeros(size[1])\n",
    "    for col in range(size[1]):\n",
    "        print(col, end = ' ')\n",
    "        var_contr = {}\n",
    "        sl = dics['sl'][size[1]+1:,0]\n",
    "        var_contr['sf'] = dics['sf'][size[1]+1:,col]\n",
    "        length = len(sl)\n",
    "        covs['sl'][col] = np.sum(sl*sl)/length\n",
    "        for var in rhs_list+region_names:\n",
    "            var_contr[var] = np.sum(dics[var][size[1]+1:,:col+1],axis = 1)\n",
    "        for var in rhs_list+region_names+['sf']:\n",
    "            dotpro = np.sum(var_contr[var]*sl)\n",
    "            covs[var][col] = dotpro/length\n",
    "    \n",
    "    to_output = xr.Dataset()\n",
    "    length = len(covs['A'])\n",
    "    for var in covs.keys():\n",
    "        to_output[var] = xr.DataArray(covs[var],dims = 'dummy')\n",
    "    to_output.to_zarr('lineplotprep/covdata_domain_all')"
   ]
  },
  {
   "cell_type": "code",
   "execution_count": null,
   "id": "dc802a2b-5362-4ec1-8ba6-f10f94104e74",
   "metadata": {},
   "outputs": [],
   "source": [
    "variable_dic = {'e_ua': 'sub-daily advection',\n",
    "                'E': r\"$u'\\cdot \\nabla s' - \\overline{u'\\cdot \\nabla s'}$\",\n",
    "                'A': r\"$u'\\cdot \\nabla \\bar s$\",\n",
    "                'dif_h': 'horizontal diffusion',\n",
    "                'dif_v': 'vertical diffusion',\n",
    "                'I': 'Ice plume',\n",
    "                'F': 'Evap/Prec',\n",
    "                'sf': 'Initial salinity'\n",
    "               }\n",
    "xs = np.arange(0,size[1]*50+1,50)\n",
    "for var in rhs_list+['sf']:\n",
    "    if var == 'sf':\n",
    "        plt.plot(xs,[1]+list(covs[var]/covs['sl']),label = variable_dic[var])\n",
    "    else:\n",
    "        plt.plot(xs,[0]+list(-covs[var]/covs['sl']),label = variable_dic[var],color = color_dic[var])\n",
    "plt.xlabel('days before')\n",
    "plt.ylabel(r'$\\frac{EX_iY}{EY^2}$')\n",
    "plt.legend(fontsize = 8)\n",
    "# plt.savefig('covariance_tau.png')"
   ]
  },
  {
   "cell_type": "code",
   "execution_count": null,
   "id": "ba802808-2776-45f7-bfce-24f6e60f1fcc",
   "metadata": {},
   "outputs": [],
   "source": [
    "\n",
    "xs = np.arange(0,size[1]*50+1,50)\n",
    "for var in region_names+['sf']:\n",
    "    if var == 'sf':\n",
    "        plt.plot(xs,[1]+list(covs[var]/covs['sl']),label = variable_dic[var])\n",
    "    else:\n",
    "        plt.plot(xs,[0]+list(-covs[var]/covs['sl']),label = variable_dic[var],color = color_dic[var])\n",
    "plt.xlabel('days before')\n",
    "plt.ylabel(r'$\\frac{EX_iY}{EY^2}$')\n",
    "plt.legend(fontsize = 8)\n",
    "# plt.savefig('covariance_tau.png')"
   ]
  },
  {
   "cell_type": "code",
   "execution_count": null,
   "id": "19710a40-dc66-49f1-8a0d-4a1bca0053ac",
   "metadata": {},
   "outputs": [],
   "source": [
    "1"
   ]
  },
  {
   "cell_type": "code",
   "execution_count": null,
   "id": "944c2614-1182-41a7-ab8f-5586d0cc30ad",
   "metadata": {},
   "outputs": [],
   "source": [
    "1"
   ]
  },
  {
   "cell_type": "code",
   "execution_count": null,
   "id": "fd94e4fd-048d-4ab8-b667-e5671065d955",
   "metadata": {},
   "outputs": [],
   "source": [
    "1"
   ]
  },
  {
   "cell_type": "code",
   "execution_count": null,
   "id": "00edbfe7-b82e-4ed1-9f79-3a59fa05c6dd",
   "metadata": {},
   "outputs": [],
   "source": []
  }
 ],
 "metadata": {
  "kernelspec": {
   "display_name": "Python 3 (ipykernel)",
   "language": "python",
   "name": "python3"
  },
  "language_info": {
   "codemirror_mode": {
    "name": "ipython",
    "version": 3
   },
   "file_extension": ".py",
   "mimetype": "text/x-python",
   "name": "python",
   "nbconvert_exporter": "python",
   "pygments_lexer": "ipython3",
   "version": "3.11.6"
  }
 },
 "nbformat": 4,
 "nbformat_minor": 5
}
