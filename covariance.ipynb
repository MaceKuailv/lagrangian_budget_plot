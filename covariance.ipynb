{
 "cells": [
  {
   "cell_type": "code",
   "execution_count": 1,
   "id": "6bcf5b3e-0fd7-41b6-b73c-1e42c969b9f5",
   "metadata": {},
   "outputs": [],
   "source": [
    "import numpy as np\n",
    "import matplotlib.pyplot as plt\n",
    "import xarray as xr"
   ]
  },
  {
   "cell_type": "code",
   "execution_count": 2,
   "id": "815e5730-d140-44fc-82f8-c16c2d7939de",
   "metadata": {},
   "outputs": [
    {
     "data": {
      "text/plain": [
       "1"
      ]
     },
     "execution_count": 2,
     "metadata": {},
     "output_type": "execute_result"
    }
   ],
   "source": [
    "1"
   ]
  },
  {
   "cell_type": "code",
   "execution_count": 3,
   "id": "6b96810d-8840-4d52-ac93-a202608a0392",
   "metadata": {},
   "outputs": [],
   "source": [
    "from plot_config import *"
   ]
  },
  {
   "cell_type": "code",
   "execution_count": 4,
   "id": "b7ffd97b-ea0a-4d70-b6d9-5959231a2f43",
   "metadata": {},
   "outputs": [],
   "source": [
    "rerun = False"
   ]
  },
  {
   "cell_type": "code",
   "execution_count": null,
   "id": "4ad297e6-5065-4364-82f5-4573a93b72cd",
   "metadata": {},
   "outputs": [
    {
     "name": "stdout",
     "output_type": "stream",
     "text": [
      "805\n"
     ]
    }
   ],
   "source": [
    "import os\n",
    "path = '/sciserver/filedb10-01/ocean/wenrui_temp/table_domain5/'\n",
    "lst = os.listdir(path)\n",
    "print(len(os.listdir(path)))\n",
    "\n",
    "slices = []\n",
    "for i in range(5):\n",
    "    slices.append(str(slice(i*730,(i+1)*730)))\n",
    "slices\n",
    "\n",
    "subs = []\n",
    "offsets = [i*730 for i in range(5)]\n",
    "for slid in range(5): \n",
    "    strslice = slices[slid]\n",
    "    sub_name = ['table'+str(i)+strslice for i in range(0,161)]\n",
    "    for name in sub_name:\n",
    "        if name not in lst:\n",
    "            print(name)\n",
    "    datasets = [xr.open_zarr(path+name) for name in sub_name]\n",
    "    \n",
    "    sub = xr.concat(datasets,dim = 'time')\n",
    "\n",
    "    sub['space']=sub.space+offsets[slid]\n",
    "    subs.append(sub)\n",
    "\n",
    "ds = xr.concat(subs,dim = 'space')"
   ]
  },
  {
   "cell_type": "code",
   "execution_count": null,
   "id": "f7fc68d1-a05b-4b54-8c4b-acf3149387b7",
   "metadata": {},
   "outputs": [],
   "source": [
    "NUMBER_OF_PARTICLE = NUMBER_OF_PARTICLE_domain4"
   ]
  },
  {
   "cell_type": "code",
   "execution_count": null,
   "id": "f2e5f587-246e-4589-a760-f60950dccb65",
   "metadata": {},
   "outputs": [],
   "source": [
    "for a_region in region_names:\n",
    "    ds[a_region] = xr.zeros_like(ds['A'])\n",
    "    for var in ds.data_vars:\n",
    "        if a_region in var and a_region!=var:\n",
    "            ds[a_region]+=ds[var]\n",
    "            print(var, end = ' ')\n",
    "    print()\n",
    "ds['sum'] = xr.zeros_like(ds['A'])\n",
    "for var in rhs_list:\n",
    "    ds['sum']+=ds[var]\n",
    "    print(var, end = ' ')"
   ]
  },
  {
   "cell_type": "code",
   "execution_count": null,
   "id": "63c55acb-6d86-4aef-855b-3f75eb5efde1",
   "metadata": {},
   "outputs": [],
   "source": [
    "ds"
   ]
  },
  {
   "cell_type": "code",
   "execution_count": null,
   "id": "063d208a-a203-4a14-be34-c41d4563570a",
   "metadata": {},
   "outputs": [],
   "source": [
    "%%time\n",
    "bins = 50\n",
    "n = len(ds.time)\n",
    "m = 1825#len(ds.space)\n",
    "size = (n//bins+1, m//bins+1)\n",
    "dics = {}\n",
    "for var in rhs_list+['sl','sf']+region_names+['sum']:\n",
    "    dics[var] = np.zeros(size)\n",
    "\n",
    "j = 0\n",
    "for start in range(0,n,bins):\n",
    "    print(start, end =' ')\n",
    "\n",
    "    xp = 0\n",
    "    yp = start\n",
    "    \n",
    "    # dic = {}\n",
    "    # for var in rhs_list+['sl','sf']:\n",
    "    #     dic[var] = []\n",
    "    i = 0\n",
    "    while xp<=m and yp-bins>=0:\n",
    "        \n",
    "        sl = float(ds.sl[yp,xp])\n",
    "        # print(xp, end = ' ')\n",
    "        offset = np.minimum(m-xp,bins)\n",
    "        sf = float(ds.sf[yp-offset+1,xp+offset-1])\n",
    "        xslicer = xr.DataArray(np.arange(xp,xp+offset), dims = 'hold')\n",
    "        yslicer = xr.DataArray(np.arange(yp,yp-offset,-1), dims = 'hold')\n",
    "        \n",
    "        dics['sl'][j,i] = sl\n",
    "        dics['sf'][j,i] = sf\n",
    "        for var in rhs_list+region_names+['sum']:\n",
    "            cumsum = float(ds[var][yslicer,xslicer].sum())/NUMBER_OF_PARTICLE\n",
    "            dics[var][j,i] = cumsum\n",
    "        xp+=bins\n",
    "        yp-=bins\n",
    "        i+=1\n",
    "    # for var in rhs_list+['sl','sf']:\n",
    "    #     dic[var] = np.array(dic[var])\n",
    "    # dics.append(dic)\n",
    "    j+=1"
   ]
  },
  {
   "cell_type": "code",
   "execution_count": null,
   "id": "df396c9e-ca26-4206-a721-4fb2a551cf95",
   "metadata": {},
   "outputs": [],
   "source": [
    "# %%time\n",
    "covs = {}\n",
    "for var in rhs_list+region_names+['sf','sl']:\n",
    "    covs[var] = np.zeros(size[1])\n",
    "for col in range(size[1]):\n",
    "    print(col, end = ' ')\n",
    "    var_contr = {}\n",
    "    sl = dics['sl'][size[1]+1:,0]\n",
    "    var_contr['sf'] = dics['sf'][size[1]+1:,col]\n",
    "    length = len(sl)\n",
    "    covs['sl'][col] = np.sum(sl*sl)/length\n",
    "    for var in rhs_list:\n",
    "        var_contr[var] = np.sum(dics[var][size[1]+1:,:col+1],axis = 1)\n",
    "    for var in rhs_list+['sf']:\n",
    "        dotpro = np.sum(var_contr[var]*sl)\n",
    "        covs[var][col] = dotpro/length"
   ]
  },
  {
   "cell_type": "code",
   "execution_count": null,
   "id": "dc802a2b-5362-4ec1-8ba6-f10f94104e74",
   "metadata": {},
   "outputs": [],
   "source": [
    "variable_dic = {'e_ua': 'sub-daily advection',\n",
    "                'E': r\"$u'\\cdot \\nabla s' - \\overline{u'\\cdot \\nabla s'}$\",\n",
    "                'A': r\"$u'\\cdot \\nabla \\bar s$\",\n",
    "                'dif_h': 'horizontal diffusion',\n",
    "                'dif_v': 'vertical diffusion',\n",
    "                'I': 'Ice plume',\n",
    "                'F': 'Evap/Prec',\n",
    "                'sf': 'Initial salinity'\n",
    "               }\n",
    "xs = np.arange(0,size[1]*50+1,50)\n",
    "for var in rhs_list+['sf']:\n",
    "    if var == 'sf':\n",
    "        plt.plot(xs,[1]+list(covs[var]/covs['sl']),label = variable_dic[var])\n",
    "    else:\n",
    "        plt.plot(xs,[0]+list(-covs[var]/covs['sl']),label = variable_dic[var],color = color_dic[var])\n",
    "plt.xlabel('days before')\n",
    "plt.ylabel(r'$\\frac{EX_iY}{EY^2}$')\n",
    "plt.legend(fontsize = 8)\n",
    "# plt.savefig('covariance_tau.png')"
   ]
  },
  {
   "cell_type": "code",
   "execution_count": null,
   "id": "285d6b0b-9fad-4a6e-bae4-a2eb8f0e2ceb",
   "metadata": {},
   "outputs": [],
   "source": [
    "to_output = xr.Dataset()\n",
    "length = len(covs['A'])\n",
    "for var in covs.keys():\n",
    "    to_output[var] = xr.DataArray(covs[var],dims = 'dummy')\n",
    "to_output.to_zarr('lineplotprep/covdata_domain4')"
   ]
  },
  {
   "cell_type": "code",
   "execution_count": null,
   "id": "ba802808-2776-45f7-bfce-24f6e60f1fcc",
   "metadata": {},
   "outputs": [],
   "source": [
    "\n",
    "xs = np.arange(0,size[1]*50+1,50)\n",
    "for var in region_names+['sf']:\n",
    "    if var == 'sf':\n",
    "        plt.plot(xs,[1]+list(covs[var]/covs['sl']),label = variable_dic[var])\n",
    "    else:\n",
    "        plt.plot(xs,[0]+list(-covs[var]/covs['sl']),label = variable_dic[var],color = color_dic[var])\n",
    "plt.xlabel('days before')\n",
    "plt.ylabel(r'$\\frac{EX_iY}{EY^2}$')\n",
    "plt.legend(fontsize = 8)\n",
    "# plt.savefig('covariance_tau.png')"
   ]
  },
  {
   "cell_type": "code",
   "execution_count": null,
   "id": "19710a40-dc66-49f1-8a0d-4a1bca0053ac",
   "metadata": {},
   "outputs": [],
   "source": [
    "1"
   ]
  },
  {
   "cell_type": "code",
   "execution_count": null,
   "id": "944c2614-1182-41a7-ab8f-5586d0cc30ad",
   "metadata": {},
   "outputs": [],
   "source": [
    "1"
   ]
  },
  {
   "cell_type": "code",
   "execution_count": null,
   "id": "1b6e8847-66f6-4f56-b055-33f0b9f64b9e",
   "metadata": {},
   "outputs": [],
   "source": [
    "1"
   ]
  },
  {
   "cell_type": "code",
   "execution_count": null,
   "id": "892a0edc-bafb-457d-a550-04665de37a3e",
   "metadata": {},
   "outputs": [],
   "source": [
    "1"
   ]
  },
  {
   "cell_type": "code",
   "execution_count": null,
   "id": "4f869523-4982-4426-a96f-96769a6f966b",
   "metadata": {},
   "outputs": [],
   "source": []
  }
 ],
 "metadata": {
  "kernelspec": {
   "display_name": "Python 3 (ipykernel)",
   "language": "python",
   "name": "python3"
  },
  "language_info": {
   "codemirror_mode": {
    "name": "ipython",
    "version": 3
   },
   "file_extension": ".py",
   "mimetype": "text/x-python",
   "name": "python",
   "nbconvert_exporter": "python",
   "pygments_lexer": "ipython3",
   "version": "3.11.6"
  }
 },
 "nbformat": 4,
 "nbformat_minor": 5
}
