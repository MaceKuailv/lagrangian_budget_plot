{
 "cells": [
  {
   "cell_type": "code",
   "execution_count": 85,
   "id": "4f40c83c-b820-4de5-b25e-63f952ab4612",
   "metadata": {},
   "outputs": [],
   "source": [
    "import xarray as xr\n",
    "import numpy as np"
   ]
  },
  {
   "cell_type": "code",
   "execution_count": 98,
   "id": "a5a6bbd8-6618-4ec6-957a-f5f080614ef2",
   "metadata": {},
   "outputs": [],
   "source": [
    "from matplotlib.patches import Rectangle"
   ]
  },
  {
   "cell_type": "code",
   "execution_count": 86,
   "id": "007b1366-71bd-4ceb-9912-f75deb03ea7b",
   "metadata": {},
   "outputs": [],
   "source": [
    "from plot_config import *"
   ]
  },
  {
   "cell_type": "code",
   "execution_count": 109,
   "id": "1d6da40b-cbfe-4a6b-8ac8-4843a4ab27f0",
   "metadata": {},
   "outputs": [],
   "source": [
    "from utils import *"
   ]
  },
  {
   "cell_type": "code",
   "execution_count": 95,
   "id": "75b8c099-4593-4683-b11c-7b1f4ded4e4a",
   "metadata": {},
   "outputs": [],
   "source": [
    "xg = np.load('plotting_xg.npy')\n",
    "yg = np.load('plotting_yg.npy')"
   ]
  },
  {
   "cell_type": "code",
   "execution_count": 96,
   "id": "5a74d966-7e0b-41cf-a700-33ce7632f9dd",
   "metadata": {},
   "outputs": [],
   "source": [
    "for face in [6,7]:\n",
    "\n",
    "    discontinue_face = xg[fc]<0\n",
    "    xg[fc][discontinue_face]+=360"
   ]
  },
  {
   "cell_type": "code",
   "execution_count": 148,
   "id": "7008472f-b85a-4c43-9c23-de64cab9ae83",
   "metadata": {},
   "outputs": [],
   "source": [
    "vmax = 30\n",
    "def plot2d(sp,vmax = vmax,title = False, hash_type = 'wholedepth',save_as  =False):\n",
    "    plt.figure(figsize = (16,9))\n",
    "    ax = plt.axes(projection = projection)\n",
    "    extent = (-95, 15, -10, 90)\n",
    "    ax.set_extent(extent)\n",
    "    n = 20\n",
    "    # aoi = mpath.Path(\n",
    "    #     list(zip(np.linspace(extent[0],extent[1], n), np.full(n, extent[3]))) + \\\n",
    "    #     list(zip(np.full(n, extent[1]), np.linspace(extent[3], extent[2], n))) + \\\n",
    "    #     list(zip(np.linspace(extent[1], extent[0], n), np.full(n, extent[2]))) + \\\n",
    "    #     list(zip(np.full(n, extent[0]), np.linspace(extent[2], extent[3], n)))\n",
    "    # )\n",
    "    # ax.set_boundary(aoi, transform=ccrs.PlateCarree())\n",
    "    if hash_type == 'wholedepth':\n",
    "        # pass\n",
    "        ct = maps['count'].sum(axis = 0)/2\n",
    "    else:\n",
    "        ct = maps['count'][0]/2\n",
    "    condition = np.logical_and(True, ct<5e3)\n",
    "    to_plot = sp*VOLUME_EACH/ecco_grid.rA\n",
    "    zm = np.ma.masked_where(condition,to_plot)\n",
    "    for i in [1,2,6,7,10,11]:\n",
    "        p2 = ax.pcolormesh(xg[i] ,yg[i] ,to_plot[i] ,vmax = vmax,vmin = -vmax,cmap = balance, transform = ccrs.PlateCarree())\n",
    "    xlim = ax.get_xlim()\n",
    "    ylim = ax.get_ylim()\n",
    "    ax.add_patch(Rectangle((xlim[0], ylim[0]), xlim[1]-xlim[0], ylim[1]-ylim[0], fill=False, hatch='..'))\n",
    "    for i in [1,2,6,7,10,11]:\n",
    "        p2 = ax.pcolormesh(xg[i] ,yg[i] ,zm[i] ,vmax = vmax,vmin = -vmax,cmap = balance, transform = ccrs.PlateCarree())\n",
    "    # for i in [7]:\n",
    "    #     plt.pcolor(xg[i],yg[i],zm[i], hatch='..', alpha=0.,transform = ccrs.PlateCarree(),zorder = 10)\n",
    "    # p2 = ax.pcolormesh(xc[1] ,yc[1] ,to_plot[1] ,vmax = vmax,vmin = -vmax,cmap = balance, transform = ccrs.PlateCarree())\n",
    "    # p6 = ax.pcolormesh(xc[6] ,yc[6] ,to_plot[6] ,vmax = vmax,vmin = -vmax,cmap = balance, transform = ccrs.PlateCarree())\n",
    "    # p7 = ax.pcolormesh(xc[7] ,yc[7] ,to_plot[7] ,vmax = vmax,vmin = -vmax,cmap = balance, transform = ccrs.PlateCarree())\n",
    "    # p10 =ax.pcolormesh(xc[10],yc[10],to_plot[10],vmax = vmax,vmin = -vmax,cmap = balance, transform = ccrs.PlateCarree())\n",
    "    # p11 =ax.pcolormesh(xc[11],yc[11],to_plot[11],vmax = vmax,vmin = -vmax,cmap = balance, transform = ccrs.PlateCarree())\n",
    "    ax.add_feature(cfeature.LAND, zorder=10, facecolor='grey')\n",
    "    plt.colorbar(p2, label = r'$psu\\cdot m$',extend = 'both')\n",
    "    \n",
    "    if title:\n",
    "        plt.title(title)\n",
    "    if save_as:\n",
    "        plt.savefig(save_as)\n",
    "    # plt.show()"
   ]
  },
  {
   "cell_type": "code",
   "execution_count": 144,
   "id": "74a127c0-7dc0-49fd-92fc-d7ba1028047e",
   "metadata": {},
   "outputs": [],
   "source": [
    "fig_dic = {\n",
    "    'fresh':'figure2',\n",
    "    'salty':'figure5'\n",
    "}\n",
    "suffix = '.png'\n",
    "sup_pref = 'sup_figure2_'"
   ]
  },
  {
   "cell_type": "code",
   "execution_count": null,
   "id": "bac63ab5-7426-4ed8-8648-c559a5944b5f",
   "metadata": {},
   "outputs": [],
   "source": [
    "for case in ['fresh','salty']:\n",
    "    maps,table = open_case(case)\n",
    "    if case == 'salty':\n",
    "        TOTAL_VOLUME,NUMBER_OF_PARTICLE,VOLUME_EACH,idate = TOTAL_VOLUME_salty,NUMBER_OF_PARTICLE_salty,VOLUME_EACH_salty,salty_idate\n",
    "    if case == 'fresh':\n",
    "        TOTAL_VOLUME,NUMBER_OF_PARTICLE,VOLUME_EACH,idate = TOTAL_VOLUME_fresh,NUMBER_OF_PARTICLE_fresh,VOLUME_EACH_fresh,fresh_idate\n",
    "    \n",
    "    for var in rhs_list:\n",
    "        if var == 'F':\n",
    "            vmax = 25\n",
    "            hashtype = 'surface'\n",
    "            save_as = fig_dic[case]+'(b)'+suffix\n",
    "        else:\n",
    "            hashtype = 'wholedepth'\n",
    "            if var == 'A':\n",
    "                save_as = fig_dic[case]+'(a)'+suffix\n",
    "            else:\n",
    "                save_as = sup_pref+case+'_'+var\n",
    "            if var in ['I','e_ua']:\n",
    "                vmax = 5\n",
    "            else:\n",
    "                vmax = 50\n",
    "        plot2d(-maps[var].sum(dim = 'Z'),vmax = vmax,title = term_dic[var],hash_type = hashtype,save_as = save_as)"
   ]
  },
  {
   "cell_type": "code",
   "execution_count": 102,
   "id": "70b3864c-df04-4fa4-a735-530166073dd4",
   "metadata": {},
   "outputs": [
    {
     "data": {
      "text/plain": [
       "<matplotlib.colorbar.Colorbar at 0x7fca2b73c6d0>"
      ]
     },
     "execution_count": 102,
     "metadata": {},
     "output_type": "execute_result"
    },
    {
     "data": {
      "image/png": "[encoded data removed]",
      "text/plain": [
       "<Figure size 640x480 with 2 Axes>"
      ]
     },
     "metadata": {},
     "output_type": "display_data"
    }
   ],
   "source": [
    "# plt.pcolormesh(xg[10],yg[10],ct[10],vmax = 1e4)\n",
    "# plt.colorbar()"
   ]
  },
  {
   "cell_type": "code",
   "execution_count": null,
   "id": "6581826c-4d95-4d1a-ad31-e8ecfd44c76d",
   "metadata": {},
   "outputs": [],
   "source": []
  }
 ],
 "metadata": {
  "kernelspec": {
   "display_name": "Python 3 (ipykernel)",
   "language": "python",
   "name": "python3"
  },
  "language_info": {
   "codemirror_mode": {
    "name": "ipython",
    "version": 3
   },
   "file_extension": ".py",
   "mimetype": "text/x-python",
   "name": "python",
   "nbconvert_exporter": "python",
   "pygments_lexer": "ipython3",
   "version": "3.11.6"
  }
 },
 "nbformat": 4,
 "nbformat_minor": 5
}
