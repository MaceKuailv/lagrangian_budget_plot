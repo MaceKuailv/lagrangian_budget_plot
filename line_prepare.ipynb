{
 "cells": [
  {
   "cell_type": "code",
   "execution_count": 1,
   "id": "b7cdf560-c4c0-47cb-865c-61cb1ac19552",
   "metadata": {},
   "outputs": [],
   "source": [
    "import xarray as xr\n",
    "import numpy as np\n",
    "import matplotlib.pyplot as plt"
   ]
  },
  {
   "cell_type": "code",
   "execution_count": 2,
   "id": "6da9b86d-8236-4117-8e09-e94dd73cd5f9",
   "metadata": {},
   "outputs": [],
   "source": [
    "from plot_config import *"
   ]
  },
  {
   "cell_type": "code",
   "execution_count": 3,
   "id": "b830481f-eb82-48b7-8853-ab264c1beec8",
   "metadata": {},
   "outputs": [],
   "source": [
    "particle_path = '/sciserver/filedb08-01/ocean/wenrui_temp/particle_file/saltyM/'\n",
    "pre = 'lineplotprep/salty_'\n",
    "# particle_path = '/sciserver/filedb11-01/ocean/wenrui_temp/particle_file/holliday/'\n",
    "table_path = particle_path+'table/'\n",
    "map_path = particle_path+'maps/'\n",
    "maps = xr.open_zarr(map_path)\n",
    "table= xr.open_zarr(table_path)"
   ]
  },
  {
   "cell_type": "code",
   "execution_count": 4,
   "id": "6ed5f9d7-3a7f-44ec-b610-cbec5e0879c7",
   "metadata": {},
   "outputs": [],
   "source": [
    "time_slice = slice(None,None,-1)\n",
    "cum = table.isel(time = time_slice).cumsum(dim = 'time')"
   ]
  },
  {
   "cell_type": "code",
   "execution_count": 5,
   "id": "b8e8dc06-b898-469a-8b4b-3f5496b87b9b",
   "metadata": {},
   "outputs": [],
   "source": [
    "size = len(cum.time)"
   ]
  },
  {
   "cell_type": "code",
   "execution_count": 6,
   "id": "2e8fa043-96b3-4598-9119-5da2ad7b2d31",
   "metadata": {},
   "outputs": [],
   "source": [
    "mean = cum.mean(dim = 'space').chunk()\n",
    "std = cum.std(dim = 'space').chunk()"
   ]
  },
  {
   "cell_type": "code",
   "execution_count": 7,
   "id": "4140a95b-08c8-4bbc-b21c-dff3f9025660",
   "metadata": {},
   "outputs": [],
   "source": [
    "for var in mean.data_vars:\n",
    "    mean[var] = mean[var].chunk(size)\n",
    "for var in std.data_vars:\n",
    "    std[var] = std[var].chunk(size)"
   ]
  },
  {
   "cell_type": "code",
   "execution_count": 8,
   "id": "e353feef-696a-44a0-a325-a452fee42a66",
   "metadata": {},
   "outputs": [
    {
     "data": {
      "text/plain": [
       "<xarray.backends.zarr.ZarrStore at 0x7fd16a5277d0>"
      ]
     },
     "execution_count": 8,
     "metadata": {},
     "output_type": "execute_result"
    }
   ],
   "source": [
    "mean.to_zarr(pre+'mean'+str(time_slice),mode = 'w')\n",
    "std.to_zarr(pre+'std'+str(time_slice),mode = 'w')"
   ]
  },
  {
   "cell_type": "code",
   "execution_count": null,
   "id": "6a96ad94-76a2-466a-8598-ebbc0c6c467b",
   "metadata": {},
   "outputs": [],
   "source": []
  },
  {
   "cell_type": "code",
   "execution_count": null,
   "id": "528852fd-3aa3-428e-9bed-4397535192b2",
   "metadata": {},
   "outputs": [],
   "source": []
  },
  {
   "cell_type": "code",
   "execution_count": 9,
   "id": "52a1e962-3f90-4bc9-99d7-c60a9c6b73ed",
   "metadata": {},
   "outputs": [],
   "source": [
    "particle_path = '/sciserver/filedb04-01/ocean/wenrui_temp/particle_file/freshM/'\n",
    "pre = 'lineplotprep/fresh_'\n",
    "# particle_path = '/sciserver/filedb11-01/ocean/wenrui_temp/particle_file/holliday/'\n",
    "table_path = particle_path+'table/'\n",
    "map_path = particle_path+'maps/'\n",
    "maps = xr.open_zarr(map_path)\n",
    "table= xr.open_zarr(table_path)"
   ]
  },
  {
   "cell_type": "code",
   "execution_count": 10,
   "id": "c94d68f2-3355-4e95-87a8-11b396b483a1",
   "metadata": {},
   "outputs": [],
   "source": [
    "time_slice = slice(1824,None,-1)\n",
    "cum = table.isel(time = time_slice).cumsum(dim = 'time')"
   ]
  },
  {
   "cell_type": "code",
   "execution_count": 11,
   "id": "15b8e9f1-a830-4294-b645-9cf38c01f4f8",
   "metadata": {},
   "outputs": [],
   "source": [
    "size = len(cum.time)"
   ]
  },
  {
   "cell_type": "code",
   "execution_count": 12,
   "id": "43820a9e-6cf9-42a0-aa47-77fa2b50ca76",
   "metadata": {},
   "outputs": [],
   "source": [
    "mean = cum.mean(dim = 'space')\n",
    "std = cum.std(dim = 'space')"
   ]
  },
  {
   "cell_type": "code",
   "execution_count": 13,
   "id": "9ae0f837-6a46-497a-ade5-34bfdaf7f253",
   "metadata": {},
   "outputs": [],
   "source": [
    "for var in mean.data_vars:\n",
    "    mean[var] = mean[var].chunk(size)\n",
    "for var in std.data_vars:\n",
    "    std[var] = std[var].chunk(size)"
   ]
  },
  {
   "cell_type": "code",
   "execution_count": 14,
   "id": "10598abc-b5bb-4241-8a6f-06186765086b",
   "metadata": {},
   "outputs": [
    {
     "data": {
      "text/plain": [
       "<xarray.backends.zarr.ZarrStore at 0x7fd172d767a0>"
      ]
     },
     "execution_count": 14,
     "metadata": {},
     "output_type": "execute_result"
    }
   ],
   "source": [
    "mean.to_zarr(pre+'mean'+str(time_slice),mode = 'w')\n",
    "std.to_zarr(pre+'std'+str(time_slice),mode = 'w')"
   ]
  },
  {
   "cell_type": "code",
   "execution_count": null,
   "id": "1d05d9af-0788-4135-a816-0dc82b3284c5",
   "metadata": {},
   "outputs": [],
   "source": []
  }
 ],
 "metadata": {
  "kernelspec": {
   "display_name": "Python 3 (ipykernel)",
   "language": "python",
   "name": "python3"
  },
  "language_info": {
   "codemirror_mode": {
    "name": "ipython",
    "version": 3
   },
   "file_extension": ".py",
   "mimetype": "text/x-python",
   "name": "python",
   "nbconvert_exporter": "python",
   "pygments_lexer": "ipython3",
   "version": "3.11.6"
  }
 },
 "nbformat": 4,
 "nbformat_minor": 5
}
