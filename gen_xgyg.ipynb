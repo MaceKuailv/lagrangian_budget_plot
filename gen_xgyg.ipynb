{
 "cells": [
  {
   "cell_type": "code",
   "execution_count": null,
   "id": "7c7c68eb-a167-4e9d-a81f-1645d39384d9",
   "metadata": {},
   "outputs": [],
   "source": [
    "import numpy as np\n",
    "import seaduck as sd\n",
    "import xarray as xr\n",
    "\n",
    "import matplotlib.pyplot as plt\n",
    "\n",
    "ecco_grid = xr.open_zarr('~/ECCO_transport')\n",
    "xg = np.array(ecco_grid.XG)\n",
    "yg = np.array(ecco_grid.YG)\n",
    "\n",
    "tp = sd.Topology(ecco_grid)\n",
    "\n",
    "x = np.zeros((13,91,91))\n",
    "y = np.zeros((13,91,91))\n",
    "\n",
    "for fc in range(13):\n",
    "    x[fc,:90,:90] = xg[fc]\n",
    "    y[fc,:90,:90] = yg[fc]\n",
    "    for j in range(90):\n",
    "        ori_ind = (fc,j,89)\n",
    "        try:\n",
    "            neo_ind = tp.ind_tend(ori_ind,3,cuvwg = 'G')\n",
    "        except:\n",
    "            neo_ind = ori_ind\n",
    "        x[fc,j,90] = xg[neo_ind]\n",
    "        y[fc,j,90] = yg[neo_ind]\n",
    "    for i in range(90):\n",
    "        ori_ind = (fc,89,i)\n",
    "        try:\n",
    "            neo_ind = tp.ind_tend(ori_ind,0,cuvwg = 'G')\n",
    "        except:\n",
    "            neo_ind = ori_ind\n",
    "        x[fc,90,i] = xg[neo_ind]\n",
    "        y[fc,90,i] = yg[neo_ind]\n",
    "    try:\n",
    "        final = tp.ind_moves((fc,89,89),[0,3], cuvwg = 'G')\n",
    "    except:\n",
    "        final = (fc,89,89)\n",
    "    x[fc,-1,-1] = xg[final]\n",
    "    y[fc,-1,-1] = yg[final]\n",
    "\n",
    "# np.save('plotting_xg.npy', x)\n",
    "# np.save('plotting_yg.npy', y)"
   ]
  },
  {
   "cell_type": "code",
   "execution_count": null,
   "id": "d7b63db2-0a71-4031-966f-ae42cb02fd6c",
   "metadata": {},
   "outputs": [],
   "source": []
  }
 ],
 "metadata": {
  "kernelspec": {
   "display_name": "Python 3 (ipykernel)",
   "language": "python",
   "name": "python3"
  },
  "language_info": {
   "codemirror_mode": {
    "name": "ipython",
    "version": 3
   },
   "file_extension": ".py",
   "mimetype": "text/x-python",
   "name": "python",
   "nbconvert_exporter": "python",
   "pygments_lexer": "ipython3",
   "version": "3.11.6"
  }
 },
 "nbformat": 4,
 "nbformat_minor": 5
}
