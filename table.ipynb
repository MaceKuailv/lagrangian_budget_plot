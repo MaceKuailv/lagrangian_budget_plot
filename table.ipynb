{
 "cells": [
  {
   "cell_type": "code",
   "execution_count": 1,
   "id": "6f04a05b-271e-4116-b49d-6c5744e71470",
   "metadata": {},
   "outputs": [],
   "source": [
    "import numpy as np\n",
    "import matplotlib.pyplot as plt\n",
    "import xarray as xr"
   ]
  },
  {
   "cell_type": "code",
   "execution_count": 9,
   "id": "698db9c6-f820-4b93-9562-614bdbea2bfb",
   "metadata": {},
   "outputs": [],
   "source": [
    "import pandas as pd"
   ]
  },
  {
   "cell_type": "code",
   "execution_count": 2,
   "id": "956eb15b-3176-487e-8d9e-524673551b07",
   "metadata": {},
   "outputs": [],
   "source": [
    "from plot_config import *\n",
    "from utils import *"
   ]
  },
  {
   "cell_type": "code",
   "execution_count": null,
   "id": "37560249-f9c1-42af-86c9-41d05ddb0dc1",
   "metadata": {},
   "outputs": [],
   "source": [
    "rerun = False"
   ]
  },
  {
   "cell_type": "code",
   "execution_count": null,
   "id": "81751149-b360-45d2-87c2-59c0700f6d64",
   "metadata": {},
   "outputs": [],
   "source": [
    "if rerun:\n",
    "    final = []\n",
    "    \n",
    "    for case in ['fresh','salty']:\n",
    "        print(case)\n",
    "        map,table = open_case(case)\n",
    "        \n",
    "        for duration in [1,2,5,10]:\n",
    "            print(duration)\n",
    "            this_sum = 0\n",
    "            for var in rhs_list:\n",
    "                print(var, end = ' ')\n",
    "                contr = float(table[var].isel(time = slice(0,int(duration*365))).sum(dim = 'time').mean(dim = 'space'))\n",
    "                final.append([case,duration,var,contr])\n",
    "                this_sum+= contr\n",
    "            print()\n",
    "    \n",
    "            upper = np.minimum(len(table.time)-1,int(duration*365))\n",
    "            init = float(table['sf'][upper].mean(dim = 'space'))\n",
    "            endd = float(table['sl'][0].mean(dim = 'space'))\n",
    "            final.append([case,duration,'init',init])\n",
    "            final.append([case,duration,'Error',endd-init+this_sum])\n",
    "    \n",
    "    final = np.array(final)\n",
    "    \n",
    "    np.save('lineplotprep/table1.npy',final)"
   ]
  },
  {
   "cell_type": "code",
   "execution_count": 10,
   "id": "beeea476-c3a0-4d6e-bef4-d12ccd678828",
   "metadata": {
    "scrolled": true
   },
   "outputs": [
    {
     "data": {
      "text/plain": [
       "array([['fresh', '1', 'e_ua', '-0.0003364145955357353'],\n",
       "       ['fresh', '1', 'E', '0.02967890017978906'],\n",
       "       ['fresh', '1', 'dif_h', '-0.03261566123834041'],\n",
       "       ['fresh', '1', 'dif_v', '-0.07232158664940097'],\n",
       "       ['fresh', '1', 'A', '0.08206349941647725'],\n",
       "       ['fresh', '1', 'I', '4.262973625599882e-05'],\n",
       "       ['fresh', '1', 'F', '0.007125701342478534'],\n",
       "       ['fresh', '1', 'init', '-0.14382279893715827'],\n",
       "       ['fresh', '1', 'Error', '0.00287592229358459'],\n",
       "       ['fresh', '2', 'e_ua', '0.0009627707343365565'],\n",
       "       ['fresh', '2', 'E', '0.034280519562582094'],\n",
       "       ['fresh', '2', 'dif_h', '-0.031680024345657296'],\n",
       "       ['fresh', '2', 'dif_v', '-0.0680419868848906'],\n",
       "       ['fresh', '2', 'A', '0.21825707333126781'],\n",
       "       ['fresh', '2', 'I', '-0.0023171285385465003'],\n",
       "       ['fresh', '2', 'F', '0.009822796852353448'],\n",
       "       ['fresh', '2', 'init', '0.0051523738474764805'],\n",
       "       ['fresh', '2', 'Error', '0.0015477020286716325'],\n",
       "       ['fresh', '5', 'e_ua', '0.002297920093704858'],\n",
       "       ['fresh', '5', 'E', '0.016177771277347184'],\n",
       "       ['fresh', '5', 'dif_h', '-0.02947709571720737'],\n",
       "       ['fresh', '5', 'dif_v', '-0.05481226915970539'],\n",
       "       ['fresh', '5', 'A', '0.20697418172383503'],\n",
       "       ['fresh', '5', 'I', '-0.003285137539104134'],\n",
       "       ['fresh', '5', 'F', '0.005952350898511164'],\n",
       "       ['fresh', '5', 'init', '-0.010962945477484711'],\n",
       "       ['fresh', '5', 'Error', '0.00020672221956866133'],\n",
       "       ['fresh', '10', 'e_ua', '0.0030346411883050393'],\n",
       "       ['fresh', '10', 'E', '-0.0014027724621773934'],\n",
       "       ['fresh', '10', 'dif_h', '-0.03671849305430725'],\n",
       "       ['fresh', '10', 'dif_v', '-0.06829219757073715'],\n",
       "       ['fresh', '10', 'A', '0.22753361963381757'],\n",
       "       ['fresh', '10', 'I', '-0.010056938003006671'],\n",
       "       ['fresh', '10', 'F', '0.03990259864404149'],\n",
       "       ['fresh', '10', 'init', '0.009994387913007398'],\n",
       "       ['fresh', '10', 'Error', '-0.01057787437236915'],\n",
       "       ['salty', '1', 'e_ua', '0.0029946896774536405'],\n",
       "       ['salty', '1', 'E', '-0.006500114695111834'],\n",
       "       ['salty', '1', 'dif_h', '0.011922364585971935'],\n",
       "       ['salty', '1', 'dif_v', '0.01286107983062839'],\n",
       "       ['salty', '1', 'A', '-0.07343062125508261'],\n",
       "       ['salty', '1', 'I', '-0.0005102478714625059'],\n",
       "       ['salty', '1', 'F', '-0.03177827667325143'],\n",
       "       ['salty', '1', 'init', '0.06250794563456276'],\n",
       "       ['salty', '1', 'Error', '0.0033618511471591034'],\n",
       "       ['salty', '2', 'e_ua', '0.004337221326709793'],\n",
       "       ['salty', '2', 'E', '0.0021027311986218243'],\n",
       "       ['salty', '2', 'dif_h', '0.0035592143569127665'],\n",
       "       ['salty', '2', 'dif_v', '0.01674741176808376'],\n",
       "       ['salty', '2', 'A', '-0.11835556494726888'],\n",
       "       ['salty', '2', 'I', '-0.0032980820660415315'],\n",
       "       ['salty', '2', 'F', '-0.03702237904389519'],\n",
       "       ['salty', '2', 'init', '0.01279696172608401'],\n",
       "       ['salty', '2', 'Error', '0.005584514049614797'],\n",
       "       ['salty', '5', 'e_ua', '0.006068432854154864'],\n",
       "       ['salty', '5', 'E', '-0.003538286607873257'],\n",
       "       ['salty', '5', 'dif_h', '-0.0005327575380946693'],\n",
       "       ['salty', '5', 'dif_v', '0.02960400768498713'],\n",
       "       ['salty', '5', 'A', '-0.11135682692651444'],\n",
       "       ['salty', '5', 'I', '-0.005625036979829391'],\n",
       "       ['salty', '5', 'F', '-0.05215584571735183'],\n",
       "       ['salty', '5', 'init', '0.011034076021580113'],\n",
       "       ['salty', '5', 'Error', '0.0017405339304745748'],\n",
       "       ['salty', '10', 'e_ua', '0.007712923024229197'],\n",
       "       ['salty', '10', 'E', '-0.039023917087638534'],\n",
       "       ['salty', '10', 'dif_h', '0.0021408109289988804'],\n",
       "       ['salty', '10', 'dif_v', '0.01885250404624784'],\n",
       "       ['salty', '10', 'A', '-0.09671983199997847'],\n",
       "       ['salty', '10', 'I', '-0.0122479541028835'],\n",
       "       ['salty', '10', 'F', '-0.035440690533642134'],\n",
       "       ['salty', '10', 'init', '0.006082533558050084'],\n",
       "       ['salty', '10', 'Error', '-0.010497766100140526']], dtype='<U32')"
      ]
     },
     "execution_count": 10,
     "metadata": {},
     "output_type": "execute_result"
    }
   ],
   "source": [
    "final = np.load('lineplotprep/table1.npy')\n",
    "final"
   ]
  },
  {
   "cell_type": "code",
   "execution_count": null,
   "id": "0ec11f8d-f148-4815-8fbe-3dbc3f9f6581",
   "metadata": {},
   "outputs": [],
   "source": []
  }
 ],
 "metadata": {
  "kernelspec": {
   "display_name": "Python 3 (ipykernel)",
   "language": "python",
   "name": "python3"
  },
  "language_info": {
   "codemirror_mode": {
    "name": "ipython",
    "version": 3
   },
   "file_extension": ".py",
   "mimetype": "text/x-python",
   "name": "python",
   "nbconvert_exporter": "python",
   "pygments_lexer": "ipython3",
   "version": "3.11.6"
  }
 },
 "nbformat": 4,
 "nbformat_minor": 5
}
