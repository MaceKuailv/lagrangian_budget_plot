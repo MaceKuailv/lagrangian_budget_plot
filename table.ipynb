{
 "cells": [
  {
   "cell_type": "code",
   "execution_count": 1,
   "id": "6f04a05b-271e-4116-b49d-6c5744e71470",
   "metadata": {},
   "outputs": [],
   "source": [
    "import numpy as np\n",
    "import matplotlib.pyplot as plt\n",
    "import xarray as xr"
   ]
  },
  {
   "cell_type": "code",
   "execution_count": 2,
   "id": "956eb15b-3176-487e-8d9e-524673551b07",
   "metadata": {},
   "outputs": [],
   "source": [
    "from plot_config import *\n",
    "from utils import *"
   ]
  },
  {
   "cell_type": "code",
   "execution_count": 3,
   "id": "d51fb09a-0d9a-4e81-8ee0-35e5212dc3da",
   "metadata": {},
   "outputs": [],
   "source": [
    "final = []"
   ]
  },
  {
   "cell_type": "code",
   "execution_count": null,
   "id": "b42c90ba-88ed-4342-8513-34aba2db6b11",
   "metadata": {},
   "outputs": [
    {
     "name": "stdout",
     "output_type": "stream",
     "text": [
      "fresh\n",
      "1\n",
      "e_ua E dif_h dif_v A I F \n",
      "2\n",
      "e_ua E dif_h dif_v A "
     ]
    }
   ],
   "source": [
    "for case in ['fresh','salty']:\n",
    "    print(case)\n",
    "    map,table = open_case(case)\n",
    "    \n",
    "    for duration in [1,2,5,10]:\n",
    "        print(duration)\n",
    "        this_sum = 0\n",
    "        for var in rhs_list:\n",
    "            print(var, end = ' ')\n",
    "            contr = float(table[var].isel(time = slice(0,int(duration*365))).sum(dim = 'time').mean(dim = 'space'))\n",
    "            final.append([case,duration,var,contr])\n",
    "            this_sum+= contr\n",
    "        print()\n",
    "\n",
    "        upper = np.minimum(len(table.time)-1,int(duration*365))\n",
    "        init = float(table['sf'][upper].mean(dim = 'space'))\n",
    "        endd = float(table['sl'][0].mean(dim = 'space'))\n",
    "        final.append([case,duration,'init',init])\n",
    "        final.append([case,duration,'Error',endd-init+this_sum])"
   ]
  },
  {
   "cell_type": "code",
   "execution_count": null,
   "id": "5ad317e7-85cb-4a7d-bb3d-583cf723b95d",
   "metadata": {},
   "outputs": [],
   "source": [
    "final"
   ]
  },
  {
   "cell_type": "code",
   "execution_count": null,
   "id": "da9941b5-478a-4c19-be49-756e48729cbd",
   "metadata": {},
   "outputs": [],
   "source": [
    "\n"
   ]
  }
 ],
 "metadata": {
  "kernelspec": {
   "display_name": "Python 3 (ipykernel)",
   "language": "python",
   "name": "python3"
  },
  "language_info": {
   "codemirror_mode": {
    "name": "ipython",
    "version": 3
   },
   "file_extension": ".py",
   "mimetype": "text/x-python",
   "name": "python",
   "nbconvert_exporter": "python",
   "pygments_lexer": "ipython3",
   "version": "3.11.6"
  }
 },
 "nbformat": 4,
 "nbformat_minor": 5
}
